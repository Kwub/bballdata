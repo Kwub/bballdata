{
 "cells": [
  {
   "cell_type": "markdown",
   "metadata": {},
   "source": [
    "# Basketball \"Analysis\"\n",
    "\n",
    "Kwabena Aduse-Poku\n",
    "\n",
    "## The data\n",
    "\n",
    "Blah blah blah heres some data\n",
    "\n",
    "But first, necessary imports"
   ]
  },
  {
   "cell_type": "code",
   "execution_count": 1,
   "metadata": {},
   "outputs": [],
   "source": [
    "import requests\n",
    "from bs4 import BeautifulSoup\n",
    "import pandas as pd\n",
    "import numpy as np\n",
    "import matplotlib.pyplot as plt"
   ]
  },
  {
   "cell_type": "code",
   "execution_count": 2,
   "metadata": {},
   "outputs": [],
   "source": [
    "blah = []\n",
    "\n",
    "html = 'http://www.prosportstransactions.com/basketball/Search/SearchResults.php?Player=&Team=&BeginDate=2010-10-01&EndDate=2022-05-09&NBADLChkBx=yes&Submit=Search'\n",
    "webpage = requests.get(html)\n",
    "content = webpage.content\n",
    "soup = BeautifulSoup(content)\n",
    "\n",
    "for item in soup.find_all('tr'):\n",
    "    for value in item.find_all('td'):\n",
    "        gm = value.text\n",
    "        blah.append(gm)"
   ]
  },
  {
   "cell_type": "code",
   "execution_count": 3,
   "metadata": {},
   "outputs": [
    {
     "name": "stdout",
     "output_type": "stream",
     "text": [
      "['\\xa0Date', '\\xa0Team', '\\xa0Acquired', '\\xa0Relinquished', '\\xa0Notes', '2010-10-30', ' Wizards', ' ', \" • Hamady Ndiaye / Hamady N'Diaye\", ' placed on IL', '2010-11-09', ' Rockets', ' ', ' • Patrick Patterson', ' assigned to NBADL', '2010-11-15', ' Raptors', ' ', ' • Solomon Alabi', ' assigned to NBADL', '2010-11-16', ' Suns', ' ', ' • Gani Lawal', ' assigned to NBADL', '2010-11-18', ' Cavaliers', ' ', ' • Christian Eyenga', ' assigned to NBADL', '2010-11-22', ' Raptors', ' ', ' • Ed Davis (Adam)', ' assigned to NBADL (for conditioning)', '2010-11-24', ' Heat', ' ', ' • Dexter Pittman', ' assigned to NBADL', '2010-11-24', ' Thunder', ' ', ' • Cole Aldrich', ' assigned to NBADL', '2010-11-26', ' Nets', ' ', ' • Terrence Williams', ' assigned to NBADL', '2010-11-29', ' Kings', ' ', ' • Hassan Whiteside', ' assigned to NBADL', '2010-11-29', ' Mavericks', ' ', ' • Dominique Jones', ' assigned to NBADL', '2010-11-29', ' Mavericks', ' ', ' • Rodrigue Beaubois', ' assigned to NBADL', '2010-11-29', ' Raptors', ' • Ed Davis (Adam)', ' ', ' called up from NBADL', '2010-11-30', ' 76ers', ' ', ' • Craig Brackins', ' assigned to NBADL', '2010-12-01', ' Magic', ' ', ' • Daniel Orton', ' assigned to NBADL', '2010-12-01', ' Timberwolves', ' ', ' • Jonny Flynn', ' assigned to NBADL', '2010-12-04', ' Timberwolves', ' • Jonny Flynn', ' ', ' called up from NBADL', '2010-12-06', ' Magic', ' • Daniel Orton', ' ', ' called up from NBADL', '2010-12-06', ' Thunder', ' • Cole Aldrich', ' ', ' called up from NBADL', '2010-12-07', ' Nets', ' • Terrence Williams', ' ', ' called up from NBADL', '2010-12-08', ' Blazers', ' ', ' • Luke Babbitt', ' assigned to NBADL', '2010-12-08', ' Timberwolves', ' ', ' • Jonny Flynn', ' assigned to NBADL', '2010-12-09', ' Bobcats', ' ', ' • Sherron Collins', ' assigned to NBADL', '2010-12-09', ' Raptors', ' • Solomon Alabi', ' ', ' called up from NBADL', '2010-12-09', ' Thunder', ' ', ' • Byron Mullens / B.J. Mullens', ' assigned to NBADL', '\\xa0', '\\nPrevious ', '\\n 1 2 3 4 5 6 7 8 9 10 11 12 13 14 15 16 17 18 19 20 21 22 23 24 25 26 27 28 29 30 31 32 33 34 35 36 37 38 39 40 41 42 43 44 45 46 47 48 49 50 51 52 53 54 55 56 57 58 59 60 61 62 63 64 65 66 67 68 69 70 71 72 73 74 75 76 77 78 79 80 81 82 83 84 85 86 87 88 89 90 91 92 93 94 95 96 97 98 99 100 101 102 103 104 105 106 107 108 109 110 111 112 113 114 115 116 117 118 119 120 121 122 123 124 125 126 127 128 129 130 131 132 133 134 135 136 137 138 139 140 141 142 143 144 145 146 147 148 149 150 151 152 153 154 155 156 157 158 159 160 161 162 163 164 165 166 167 168 169 170 171 172 173 174 175 176 177 178 179 180 181 182 183 184 185 186 187 188 189 190 191 192 193 194 195 196 197 198 199 200 201 202 203 204 205 206 207 208 209 210 211 212 213 214 215 216 217 218 219 220 221 222 223 224 225 226 227 228 229 230 231 232 233 234 235 236 237 238 239 240 241 242 243 244 245 246 247 248 249 250 251 252 253 254 255 256 257 258 259 260 261 262 263 264 265 266 267 268 269 270 271 272 273 274 275 276 277 278 279 280 281 282 283 284 285 286 287 288 289 290 291 292 293 294 295 296 297 298 299 300 301 302 303 304 305 306 307 308 309 310 311 312 313 314 315 316 317 318 319 320 321 322 323 324 325 326 327 328 329 330 331 332 333 334 335 336 337 338', '\\nNext', '\\xa0']\n"
     ]
    }
   ],
   "source": [
    "print(blah)"
   ]
  }
 ],
 "metadata": {
  "interpreter": {
   "hash": "aee8b7b246df8f9039afb4144a1f6fd8d2ca17a180786b69acc140d282b71a49"
  },
  "kernelspec": {
   "display_name": "Python 3.9.9 64-bit",
   "language": "python",
   "name": "python3"
  },
  "language_info": {
   "codemirror_mode": {
    "name": "ipython",
    "version": 3
   },
   "file_extension": ".py",
   "mimetype": "text/x-python",
   "name": "python",
   "nbconvert_exporter": "python",
   "pygments_lexer": "ipython3",
   "version": "3.8.3"
  },
  "orig_nbformat": 4
 },
 "nbformat": 4,
 "nbformat_minor": 2
}
